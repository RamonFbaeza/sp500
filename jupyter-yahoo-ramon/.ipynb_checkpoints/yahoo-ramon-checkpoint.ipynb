{
 "cells": [
  {
   "cell_type": "markdown",
   "metadata": {},
   "source": [
    "## Programa Principal"
   ]
  },
  {
   "cell_type": "code",
   "execution_count": 1,
   "metadata": {
    "ExecuteTime": {
     "end_time": "2022-06-06T19:38:35.379508Z",
     "start_time": "2022-06-06T19:38:32.032762Z"
    }
   },
   "outputs": [
    {
     "name": "stderr",
     "output_type": "stream",
     "text": [
      "/Users/ramon/anaconda3/lib/python3.7/site-packages/pandas/compat/_optional.py:138: UserWarning: Pandas requires version '2.7.0' or newer of 'numexpr' (version '2.6.9' currently installed).\n",
      "  warnings.warn(msg, UserWarning)\n"
     ]
    }
   ],
   "source": [
    "import numpy as np\n",
    "import pandas as pd\n",
    "from bs4 import BeautifulSoup\n",
    "import requests, lxml\n",
    "from lxml import html\n",
    "stockDict = {}"
   ]
  },
  {
   "cell_type": "markdown",
   "metadata": {},
   "source": [
    "## Programa con Bucle"
   ]
  },
  {
   "cell_type": "code",
   "execution_count": 2,
   "metadata": {
    "ExecuteTime": {
     "end_time": "2022-06-06T19:38:41.079983Z",
     "start_time": "2022-06-06T19:38:41.053187Z"
    }
   },
   "outputs": [],
   "source": [
    "def read_stock_symbols ():\n",
    "    \n",
    "    stock_list = pd.read_csv('stock-list-test.csv')\n",
    "    \n",
    "    df_stock_list = pd.DataFrame(stock_list)\n",
    "    \n",
    "\n",
    "    return df_stock_list"
   ]
  },
  {
   "cell_type": "code",
   "execution_count": 3,
   "metadata": {
    "ExecuteTime": {
     "end_time": "2022-06-06T19:38:42.485346Z",
     "start_time": "2022-06-06T19:38:42.459930Z"
    }
   },
   "outputs": [
    {
     "data": {
      "text/html": [
       "<div>\n",
       "<style scoped>\n",
       "    .dataframe tbody tr th:only-of-type {\n",
       "        vertical-align: middle;\n",
       "    }\n",
       "\n",
       "    .dataframe tbody tr th {\n",
       "        vertical-align: top;\n",
       "    }\n",
       "\n",
       "    .dataframe thead th {\n",
       "        text-align: right;\n",
       "    }\n",
       "</style>\n",
       "<table border=\"1\" class=\"dataframe\">\n",
       "  <thead>\n",
       "    <tr style=\"text-align: right;\">\n",
       "      <th></th>\n",
       "      <th>Symbol</th>\n",
       "    </tr>\n",
       "  </thead>\n",
       "  <tbody>\n",
       "    <tr>\n",
       "      <th>0</th>\n",
       "      <td>GOOGL</td>\n",
       "    </tr>\n",
       "    <tr>\n",
       "      <th>1</th>\n",
       "      <td>GOOG</td>\n",
       "    </tr>\n",
       "    <tr>\n",
       "      <th>2</th>\n",
       "      <td>MO</td>\n",
       "    </tr>\n",
       "    <tr>\n",
       "      <th>3</th>\n",
       "      <td>AMZN</td>\n",
       "    </tr>\n",
       "    <tr>\n",
       "      <th>4</th>\n",
       "      <td>MSFT</td>\n",
       "    </tr>\n",
       "  </tbody>\n",
       "</table>\n",
       "</div>"
      ],
      "text/plain": [
       "  Symbol\n",
       "0  GOOGL\n",
       "1   GOOG\n",
       "2     MO\n",
       "3   AMZN\n",
       "4   MSFT"
      ]
     },
     "execution_count": 3,
     "metadata": {},
     "output_type": "execute_result"
    }
   ],
   "source": [
    "read_stock_symbols()"
   ]
  },
  {
   "cell_type": "code",
   "execution_count": 6,
   "metadata": {
    "ExecuteTime": {
     "end_time": "2022-06-06T19:44:35.563996Z",
     "start_time": "2022-06-06T19:44:32.876695Z"
    }
   },
   "outputs": [
    {
     "name": "stdout",
     "output_type": "stream",
     "text": [
      "https://finance.yahoo.com/quote/GOOGL?p=GOOGL\n",
      "Alphabet Inc. (GOOGL)\n",
      "https://finance.yahoo.com/quote/GOOG?p=GOOG\n",
      "Alphabet Inc. (GOOG)\n",
      "https://finance.yahoo.com/quote/MO?p=MO\n",
      "Altria Group, Inc. (MO)\n",
      "https://finance.yahoo.com/quote/AMZN?p=AMZN\n",
      "Amazon.com, Inc. (AMZN)\n",
      "https://finance.yahoo.com/quote/MSFT?p=MSFT\n",
      "Microsoft Corporation (MSFT)\n"
     ]
    }
   ],
   "source": [
    "    stock_sum_df = pd.DataFrame(data=stockDict)\n",
    "\n",
    "    stock_list = read_stock_symbols()\n",
    "    \n",
    "    df_stock_list = pd.DataFrame(stock_list)\n",
    "    \n",
    "    for index, row in df_stock_list.iterrows():\n",
    "       \n",
    "        URL = 'https://finance.yahoo.com/quote/'+ row['Symbol'] + '?p=' + row['Symbol']\n",
    "        print(URL)\n",
    "\n",
    "        page = requests.get(URL)\n",
    "        soup = BeautifulSoup(page.content, 'html.parser')\n",
    "\n",
    "        stock_data=soup.select('div[data-test*=\"quote-summary-stats\"]')\n",
    "        stock_name = soup.select('h1')[0].text.strip()\n",
    "        print(stock_name)\n",
    "        stockDict['Company'] = stock_name\n",
    "\n",
    "\n",
    "        for table in stock_data:\n",
    "            \n",
    "            trs = table.find_all('tr')\n",
    "            \n",
    "\n",
    "            for tr in trs:\n",
    "               \n",
    "                tds = tr.find_all('td')\n",
    "\n",
    "                if len(tds) > 0:\n",
    "                    stockDict[tds[0].get_text()] = [tds[1].get_text()]\n",
    "                \n",
    "\n",
    "\n",
    "            stock_sum_df = stock_sum_df.append(stockDict, ignore_index=True)\n",
    "            \n",
    "\n",
    "    stock_sum_df.to_csv('sp500-test.csv', sep = ';', index=False)\n",
    "\n",
    "   "
   ]
  },
  {
   "cell_type": "code",
   "execution_count": 5,
   "metadata": {
    "ExecuteTime": {
     "end_time": "2022-06-06T17:21:27.396778Z",
     "start_time": "2022-06-06T17:21:27.358241Z"
    }
   },
   "outputs": [
    {
     "data": {
      "text/html": [
       "<div>\n",
       "<style scoped>\n",
       "    .dataframe tbody tr th:only-of-type {\n",
       "        vertical-align: middle;\n",
       "    }\n",
       "\n",
       "    .dataframe tbody tr th {\n",
       "        vertical-align: top;\n",
       "    }\n",
       "\n",
       "    .dataframe thead th {\n",
       "        text-align: right;\n",
       "    }\n",
       "</style>\n",
       "<table border=\"1\" class=\"dataframe\">\n",
       "  <thead>\n",
       "    <tr style=\"text-align: right;\">\n",
       "      <th></th>\n",
       "      <th>Previous Close</th>\n",
       "      <th>Open</th>\n",
       "      <th>Bid</th>\n",
       "      <th>Ask</th>\n",
       "      <th>Day's Range</th>\n",
       "      <th>52 Week Range</th>\n",
       "      <th>Volume</th>\n",
       "      <th>Avg. Volume</th>\n",
       "      <th>Market Cap</th>\n",
       "      <th>Beta (5Y Monthly)</th>\n",
       "      <th>PE Ratio (TTM)</th>\n",
       "      <th>EPS (TTM)</th>\n",
       "      <th>Earnings Date</th>\n",
       "      <th>Forward Dividend &amp; Yield</th>\n",
       "      <th>Ex-Dividend Date</th>\n",
       "      <th>1y Target Est</th>\n",
       "    </tr>\n",
       "  </thead>\n",
       "  <tbody>\n",
       "    <tr>\n",
       "      <th>0</th>\n",
       "      <td>[145.38]</td>\n",
       "      <td>[147.03]</td>\n",
       "      <td>[145.99 x 1100]</td>\n",
       "      <td>[146.04 x 900]</td>\n",
       "      <td>[145.21 - 148.57]</td>\n",
       "      <td>[124.83 - 182.94]</td>\n",
       "      <td>[39,835,463]</td>\n",
       "      <td>[98,102,579]</td>\n",
       "      <td>[2.361T]</td>\n",
       "      <td>[1.19]</td>\n",
       "      <td>[23.77]</td>\n",
       "      <td>[6.14]</td>\n",
       "      <td>[Jul 25, 2022 - Jul 29, 2022]</td>\n",
       "      <td>[0.92 (0.63%)]</td>\n",
       "      <td>[May 06, 2022]</td>\n",
       "      <td>[188.92]</td>\n",
       "    </tr>\n",
       "    <tr>\n",
       "      <th>1</th>\n",
       "      <td>[703.55]</td>\n",
       "      <td>[733.06]</td>\n",
       "      <td>[713.33 x 800]</td>\n",
       "      <td>[713.64 x 2200]</td>\n",
       "      <td>[703.05 - 734.59]</td>\n",
       "      <td>[582.88 - 1,243.49]</td>\n",
       "      <td>[20,027,880]</td>\n",
       "      <td>[27,530,085]</td>\n",
       "      <td>[733.003B]</td>\n",
       "      <td>[2.12]</td>\n",
       "      <td>[95.61]</td>\n",
       "      <td>[7.40]</td>\n",
       "      <td>[Jul 25, 2022 - Jul 29, 2022]</td>\n",
       "      <td>[N/A (N/A)]</td>\n",
       "      <td>[N/A]</td>\n",
       "      <td>[922.22]</td>\n",
       "    </tr>\n",
       "  </tbody>\n",
       "</table>\n",
       "</div>"
      ],
      "text/plain": [
       "  Previous Close      Open              Bid              Ask  \\\n",
       "0       [145.38]  [147.03]  [145.99 x 1100]   [146.04 x 900]   \n",
       "1       [703.55]  [733.06]   [713.33 x 800]  [713.64 x 2200]   \n",
       "\n",
       "         Day's Range        52 Week Range        Volume   Avg. Volume  \\\n",
       "0  [145.21 - 148.57]    [124.83 - 182.94]  [39,835,463]  [98,102,579]   \n",
       "1  [703.05 - 734.59]  [582.88 - 1,243.49]  [20,027,880]  [27,530,085]   \n",
       "\n",
       "   Market Cap Beta (5Y Monthly) PE Ratio (TTM) EPS (TTM)  \\\n",
       "0    [2.361T]            [1.19]        [23.77]    [6.14]   \n",
       "1  [733.003B]            [2.12]        [95.61]    [7.40]   \n",
       "\n",
       "                   Earnings Date Forward Dividend & Yield Ex-Dividend Date  \\\n",
       "0  [Jul 25, 2022 - Jul 29, 2022]           [0.92 (0.63%)]   [May 06, 2022]   \n",
       "1  [Jul 25, 2022 - Jul 29, 2022]              [N/A (N/A)]            [N/A]   \n",
       "\n",
       "  1y Target Est  \n",
       "0      [188.92]  \n",
       "1      [922.22]  "
      ]
     },
     "execution_count": 5,
     "metadata": {},
     "output_type": "execute_result"
    }
   ],
   "source": [
    "stock_sum_df.head()"
   ]
  },
  {
   "cell_type": "markdown",
   "metadata": {},
   "source": [
    "## Otros códigos útiles"
   ]
  },
  {
   "cell_type": "code",
   "execution_count": 11,
   "metadata": {
    "ExecuteTime": {
     "end_time": "2022-06-05T17:10:29.106302Z",
     "start_time": "2022-06-05T17:10:29.099346Z"
    }
   },
   "outputs": [
    {
     "name": "stdout",
     "output_type": "stream",
     "text": [
      "Classes of each table:\n",
      "['W(100%)']\n",
      "['W(100%)', 'M(0)', 'Bdcl(c)']\n",
      "['W(100%)', 'Pos(r)', 'Tbl(f)', 'Bdcl(c)', 'BdB', 'Bdc($seperatorColor)']\n",
      "['W(100%)', 'Pos(r)', 'Tbl(f)', 'Bdcl(c)', 'BdB', 'Bdc($seperatorColor)']\n",
      "['W(100%)']\n"
     ]
    }
   ],
   "source": [
    "print('Classes of each table:')\n",
    "for table in soup.find_all('table'):\n",
    "    print(table.get('class'))"
   ]
  },
  {
   "cell_type": "code",
   "execution_count": 53,
   "metadata": {
    "ExecuteTime": {
     "end_time": "2022-06-05T10:47:21.549144Z",
     "start_time": "2022-06-05T10:47:21.534361Z"
    }
   },
   "outputs": [
    {
     "name": "stdout",
     "output_type": "stream",
     "text": [
      "Apple Inc. (AAPL)\n"
     ]
    }
   ],
   "source": [
    "stock_name = soup.select('h1')[0].text.strip()\n",
    "print(stock_name)\n"
   ]
  },
  {
   "cell_type": "code",
   "execution_count": 52,
   "metadata": {
    "ExecuteTime": {
     "end_time": "2022-06-05T10:47:08.258351Z",
     "start_time": "2022-06-05T10:47:08.251145Z"
    }
   },
   "outputs": [
    {
     "name": "stdout",
     "output_type": "stream",
     "text": [
      "145.38\n"
     ]
    }
   ],
   "source": [
    "stock_actual_price = soup.find(\"fin-streamer\", {\"data-symbol\":\"AAPL\"})\n",
    "print(stock_actual_price['value'])\n"
   ]
  },
  {
   "cell_type": "code",
   "execution_count": null,
   "metadata": {},
   "outputs": [],
   "source": [
    "print('item',stockDict.items())\n",
    "\n",
    "print('keys',stockDict.keys())\n",
    "\n",
    "print('values',stockDict.values())\n"
   ]
  },
  {
   "cell_type": "code",
   "execution_count": 15,
   "metadata": {
    "ExecuteTime": {
     "end_time": "2022-06-06T17:35:57.320033Z",
     "start_time": "2022-06-06T17:35:57.315093Z"
    }
   },
   "outputs": [],
   "source": [
    "#stock_list = stock_list.drop(stock_list.columns[0], axis=1)\n",
    "#stock_sum_df.to_csv('sp500.csv',mode='a', header=False, index=False)\n"
   ]
  },
  {
   "cell_type": "code",
   "execution_count": null,
   "metadata": {},
   "outputs": [],
   "source": [
    "my_url = 'https://finance.yahoo.com/quote/AAPL?p=AAPL using '\n",
    "response = requests.get(my_url)\n",
    "print(\"response.ok : {}, response.status_code : {}\".format(response.ok , response.status_code))"
   ]
  }
 ],
 "metadata": {
  "kernelspec": {
   "display_name": "Python 3",
   "language": "python",
   "name": "python3"
  },
  "language_info": {
   "codemirror_mode": {
    "name": "ipython",
    "version": 3
   },
   "file_extension": ".py",
   "mimetype": "text/x-python",
   "name": "python",
   "nbconvert_exporter": "python",
   "pygments_lexer": "ipython3",
   "version": "3.7.3"
  },
  "toc": {
   "base_numbering": 1,
   "nav_menu": {},
   "number_sections": true,
   "sideBar": true,
   "skip_h1_title": false,
   "title_cell": "Table of Contents",
   "title_sidebar": "Contents",
   "toc_cell": false,
   "toc_position": {},
   "toc_section_display": true,
   "toc_window_display": false
  },
  "varInspector": {
   "cols": {
    "lenName": 16,
    "lenType": 16,
    "lenVar": 40
   },
   "kernels_config": {
    "python": {
     "delete_cmd_postfix": "",
     "delete_cmd_prefix": "del ",
     "library": "var_list.py",
     "varRefreshCmd": "print(var_dic_list())"
    },
    "r": {
     "delete_cmd_postfix": ") ",
     "delete_cmd_prefix": "rm(",
     "library": "var_list.r",
     "varRefreshCmd": "cat(var_dic_list()) "
    }
   },
   "types_to_exclude": [
    "module",
    "function",
    "builtin_function_or_method",
    "instance",
    "_Feature"
   ],
   "window_display": false
  }
 },
 "nbformat": 4,
 "nbformat_minor": 2
}
